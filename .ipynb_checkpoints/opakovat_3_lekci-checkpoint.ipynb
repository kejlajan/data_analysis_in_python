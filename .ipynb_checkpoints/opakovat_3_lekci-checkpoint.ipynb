{
 "cells": [
  {
   "cell_type": "markdown",
   "id": "1abe0c1b",
   "metadata": {},
   "source": [
    "# Treti lekce:"
   ]
  },
  {
   "cell_type": "markdown",
   "id": "02f3aef7",
   "metadata": {},
   "source": [
    "## Znovu projet celou lekci a nize udelat domacak, coz bude to samy, akorat na novym datasetu:"
   ]
  },
  {
   "cell_type": "markdown",
   "id": "80c9d548",
   "metadata": {},
   "source": [
    "#### nacist balicky:"
   ]
  },
  {
   "cell_type": "code",
   "execution_count": 1,
   "id": "986d35da",
   "metadata": {},
   "outputs": [
    {
     "name": "stderr",
     "output_type": "stream",
     "text": [
      "/usr/lib/python3/dist-packages/scipy/__init__.py:146: UserWarning: A NumPy version >=1.17.3 and <1.25.0 is required for this version of SciPy (detected version 1.26.4\n",
      "  warnings.warn(f\"A NumPy version >={np_minversion} and <{np_maxversion}\"\n"
     ]
    }
   ],
   "source": [
    "import pandas as pd\n",
    "import numpy as np\n",
    "import seaborn as sns\n",
    "import matplotlib.pyplot as plt; # strednik potlaci output teto bunky -- tedy KUPODIVU NAPODRUHE i warning o moc nove verzi numpy"
   ]
  },
  {
   "cell_type": "code",
   "execution_count": 2,
   "id": "e401ad36",
   "metadata": {},
   "outputs": [],
   "source": [
    "FIG_SIZE = (10,8) #manipulate figsize globally"
   ]
  },
  {
   "cell_type": "code",
   "execution_count": 3,
   "id": "e75ac501",
   "metadata": {},
   "outputs": [
    {
     "data": {
      "text/html": [
       "<div>\n",
       "<style scoped>\n",
       "    .dataframe tbody tr th:only-of-type {\n",
       "        vertical-align: middle;\n",
       "    }\n",
       "\n",
       "    .dataframe tbody tr th {\n",
       "        vertical-align: top;\n",
       "    }\n",
       "\n",
       "    .dataframe thead th {\n",
       "        text-align: right;\n",
       "    }\n",
       "</style>\n",
       "<table border=\"1\" class=\"dataframe\">\n",
       "  <thead>\n",
       "    <tr style=\"text-align: right;\">\n",
       "      <th></th>\n",
       "      <th>Id</th>\n",
       "      <th>MSSubClass</th>\n",
       "      <th>MSZoning</th>\n",
       "      <th>LotFrontage</th>\n",
       "      <th>LotArea</th>\n",
       "      <th>Street</th>\n",
       "      <th>Alley</th>\n",
       "      <th>LotShape</th>\n",
       "      <th>LandContour</th>\n",
       "      <th>Utilities</th>\n",
       "      <th>...</th>\n",
       "      <th>PoolArea</th>\n",
       "      <th>PoolQC</th>\n",
       "      <th>Fence</th>\n",
       "      <th>MiscFeature</th>\n",
       "      <th>MiscVal</th>\n",
       "      <th>MoSold</th>\n",
       "      <th>YrSold</th>\n",
       "      <th>SaleType</th>\n",
       "      <th>SaleCondition</th>\n",
       "      <th>SalePrice</th>\n",
       "    </tr>\n",
       "  </thead>\n",
       "  <tbody>\n",
       "    <tr>\n",
       "      <th>0</th>\n",
       "      <td>1</td>\n",
       "      <td>60</td>\n",
       "      <td>RL</td>\n",
       "      <td>65.0</td>\n",
       "      <td>8450</td>\n",
       "      <td>Pave</td>\n",
       "      <td>NaN</td>\n",
       "      <td>Reg</td>\n",
       "      <td>Lvl</td>\n",
       "      <td>AllPub</td>\n",
       "      <td>...</td>\n",
       "      <td>0</td>\n",
       "      <td>NaN</td>\n",
       "      <td>NaN</td>\n",
       "      <td>NaN</td>\n",
       "      <td>0</td>\n",
       "      <td>2</td>\n",
       "      <td>2008</td>\n",
       "      <td>WD</td>\n",
       "      <td>Normal</td>\n",
       "      <td>208500</td>\n",
       "    </tr>\n",
       "    <tr>\n",
       "      <th>1</th>\n",
       "      <td>2</td>\n",
       "      <td>20</td>\n",
       "      <td>RL</td>\n",
       "      <td>80.0</td>\n",
       "      <td>9600</td>\n",
       "      <td>Pave</td>\n",
       "      <td>NaN</td>\n",
       "      <td>Reg</td>\n",
       "      <td>Lvl</td>\n",
       "      <td>AllPub</td>\n",
       "      <td>...</td>\n",
       "      <td>0</td>\n",
       "      <td>NaN</td>\n",
       "      <td>NaN</td>\n",
       "      <td>NaN</td>\n",
       "      <td>0</td>\n",
       "      <td>5</td>\n",
       "      <td>2007</td>\n",
       "      <td>WD</td>\n",
       "      <td>Normal</td>\n",
       "      <td>181500</td>\n",
       "    </tr>\n",
       "    <tr>\n",
       "      <th>2</th>\n",
       "      <td>3</td>\n",
       "      <td>60</td>\n",
       "      <td>RL</td>\n",
       "      <td>68.0</td>\n",
       "      <td>11250</td>\n",
       "      <td>Pave</td>\n",
       "      <td>NaN</td>\n",
       "      <td>IR1</td>\n",
       "      <td>Lvl</td>\n",
       "      <td>AllPub</td>\n",
       "      <td>...</td>\n",
       "      <td>0</td>\n",
       "      <td>NaN</td>\n",
       "      <td>NaN</td>\n",
       "      <td>NaN</td>\n",
       "      <td>0</td>\n",
       "      <td>9</td>\n",
       "      <td>2008</td>\n",
       "      <td>WD</td>\n",
       "      <td>Normal</td>\n",
       "      <td>223500</td>\n",
       "    </tr>\n",
       "    <tr>\n",
       "      <th>3</th>\n",
       "      <td>4</td>\n",
       "      <td>70</td>\n",
       "      <td>RL</td>\n",
       "      <td>60.0</td>\n",
       "      <td>9550</td>\n",
       "      <td>Pave</td>\n",
       "      <td>NaN</td>\n",
       "      <td>IR1</td>\n",
       "      <td>Lvl</td>\n",
       "      <td>AllPub</td>\n",
       "      <td>...</td>\n",
       "      <td>0</td>\n",
       "      <td>NaN</td>\n",
       "      <td>NaN</td>\n",
       "      <td>NaN</td>\n",
       "      <td>0</td>\n",
       "      <td>2</td>\n",
       "      <td>2006</td>\n",
       "      <td>WD</td>\n",
       "      <td>Abnorml</td>\n",
       "      <td>140000</td>\n",
       "    </tr>\n",
       "    <tr>\n",
       "      <th>4</th>\n",
       "      <td>5</td>\n",
       "      <td>60</td>\n",
       "      <td>RL</td>\n",
       "      <td>84.0</td>\n",
       "      <td>14260</td>\n",
       "      <td>Pave</td>\n",
       "      <td>NaN</td>\n",
       "      <td>IR1</td>\n",
       "      <td>Lvl</td>\n",
       "      <td>AllPub</td>\n",
       "      <td>...</td>\n",
       "      <td>0</td>\n",
       "      <td>NaN</td>\n",
       "      <td>NaN</td>\n",
       "      <td>NaN</td>\n",
       "      <td>0</td>\n",
       "      <td>12</td>\n",
       "      <td>2008</td>\n",
       "      <td>WD</td>\n",
       "      <td>Normal</td>\n",
       "      <td>250000</td>\n",
       "    </tr>\n",
       "    <tr>\n",
       "      <th>...</th>\n",
       "      <td>...</td>\n",
       "      <td>...</td>\n",
       "      <td>...</td>\n",
       "      <td>...</td>\n",
       "      <td>...</td>\n",
       "      <td>...</td>\n",
       "      <td>...</td>\n",
       "      <td>...</td>\n",
       "      <td>...</td>\n",
       "      <td>...</td>\n",
       "      <td>...</td>\n",
       "      <td>...</td>\n",
       "      <td>...</td>\n",
       "      <td>...</td>\n",
       "      <td>...</td>\n",
       "      <td>...</td>\n",
       "      <td>...</td>\n",
       "      <td>...</td>\n",
       "      <td>...</td>\n",
       "      <td>...</td>\n",
       "      <td>...</td>\n",
       "    </tr>\n",
       "    <tr>\n",
       "      <th>1455</th>\n",
       "      <td>1456</td>\n",
       "      <td>60</td>\n",
       "      <td>RL</td>\n",
       "      <td>62.0</td>\n",
       "      <td>7917</td>\n",
       "      <td>Pave</td>\n",
       "      <td>NaN</td>\n",
       "      <td>Reg</td>\n",
       "      <td>Lvl</td>\n",
       "      <td>AllPub</td>\n",
       "      <td>...</td>\n",
       "      <td>0</td>\n",
       "      <td>NaN</td>\n",
       "      <td>NaN</td>\n",
       "      <td>NaN</td>\n",
       "      <td>0</td>\n",
       "      <td>8</td>\n",
       "      <td>2007</td>\n",
       "      <td>WD</td>\n",
       "      <td>Normal</td>\n",
       "      <td>175000</td>\n",
       "    </tr>\n",
       "    <tr>\n",
       "      <th>1456</th>\n",
       "      <td>1457</td>\n",
       "      <td>20</td>\n",
       "      <td>RL</td>\n",
       "      <td>85.0</td>\n",
       "      <td>13175</td>\n",
       "      <td>Pave</td>\n",
       "      <td>NaN</td>\n",
       "      <td>Reg</td>\n",
       "      <td>Lvl</td>\n",
       "      <td>AllPub</td>\n",
       "      <td>...</td>\n",
       "      <td>0</td>\n",
       "      <td>NaN</td>\n",
       "      <td>MnPrv</td>\n",
       "      <td>NaN</td>\n",
       "      <td>0</td>\n",
       "      <td>2</td>\n",
       "      <td>2010</td>\n",
       "      <td>WD</td>\n",
       "      <td>Normal</td>\n",
       "      <td>210000</td>\n",
       "    </tr>\n",
       "    <tr>\n",
       "      <th>1457</th>\n",
       "      <td>1458</td>\n",
       "      <td>70</td>\n",
       "      <td>RL</td>\n",
       "      <td>66.0</td>\n",
       "      <td>9042</td>\n",
       "      <td>Pave</td>\n",
       "      <td>NaN</td>\n",
       "      <td>Reg</td>\n",
       "      <td>Lvl</td>\n",
       "      <td>AllPub</td>\n",
       "      <td>...</td>\n",
       "      <td>0</td>\n",
       "      <td>NaN</td>\n",
       "      <td>GdPrv</td>\n",
       "      <td>Shed</td>\n",
       "      <td>2500</td>\n",
       "      <td>5</td>\n",
       "      <td>2010</td>\n",
       "      <td>WD</td>\n",
       "      <td>Normal</td>\n",
       "      <td>266500</td>\n",
       "    </tr>\n",
       "    <tr>\n",
       "      <th>1458</th>\n",
       "      <td>1459</td>\n",
       "      <td>20</td>\n",
       "      <td>RL</td>\n",
       "      <td>68.0</td>\n",
       "      <td>9717</td>\n",
       "      <td>Pave</td>\n",
       "      <td>NaN</td>\n",
       "      <td>Reg</td>\n",
       "      <td>Lvl</td>\n",
       "      <td>AllPub</td>\n",
       "      <td>...</td>\n",
       "      <td>0</td>\n",
       "      <td>NaN</td>\n",
       "      <td>NaN</td>\n",
       "      <td>NaN</td>\n",
       "      <td>0</td>\n",
       "      <td>4</td>\n",
       "      <td>2010</td>\n",
       "      <td>WD</td>\n",
       "      <td>Normal</td>\n",
       "      <td>142125</td>\n",
       "    </tr>\n",
       "    <tr>\n",
       "      <th>1459</th>\n",
       "      <td>1460</td>\n",
       "      <td>20</td>\n",
       "      <td>RL</td>\n",
       "      <td>75.0</td>\n",
       "      <td>9937</td>\n",
       "      <td>Pave</td>\n",
       "      <td>NaN</td>\n",
       "      <td>Reg</td>\n",
       "      <td>Lvl</td>\n",
       "      <td>AllPub</td>\n",
       "      <td>...</td>\n",
       "      <td>0</td>\n",
       "      <td>NaN</td>\n",
       "      <td>NaN</td>\n",
       "      <td>NaN</td>\n",
       "      <td>0</td>\n",
       "      <td>6</td>\n",
       "      <td>2008</td>\n",
       "      <td>WD</td>\n",
       "      <td>Normal</td>\n",
       "      <td>147500</td>\n",
       "    </tr>\n",
       "  </tbody>\n",
       "</table>\n",
       "<p>1460 rows × 81 columns</p>\n",
       "</div>"
      ],
      "text/plain": [
       "        Id  MSSubClass MSZoning  LotFrontage  LotArea Street Alley LotShape  \\\n",
       "0        1          60       RL         65.0     8450   Pave   NaN      Reg   \n",
       "1        2          20       RL         80.0     9600   Pave   NaN      Reg   \n",
       "2        3          60       RL         68.0    11250   Pave   NaN      IR1   \n",
       "3        4          70       RL         60.0     9550   Pave   NaN      IR1   \n",
       "4        5          60       RL         84.0    14260   Pave   NaN      IR1   \n",
       "...    ...         ...      ...          ...      ...    ...   ...      ...   \n",
       "1455  1456          60       RL         62.0     7917   Pave   NaN      Reg   \n",
       "1456  1457          20       RL         85.0    13175   Pave   NaN      Reg   \n",
       "1457  1458          70       RL         66.0     9042   Pave   NaN      Reg   \n",
       "1458  1459          20       RL         68.0     9717   Pave   NaN      Reg   \n",
       "1459  1460          20       RL         75.0     9937   Pave   NaN      Reg   \n",
       "\n",
       "     LandContour Utilities  ... PoolArea PoolQC  Fence MiscFeature MiscVal  \\\n",
       "0            Lvl    AllPub  ...        0    NaN    NaN         NaN       0   \n",
       "1            Lvl    AllPub  ...        0    NaN    NaN         NaN       0   \n",
       "2            Lvl    AllPub  ...        0    NaN    NaN         NaN       0   \n",
       "3            Lvl    AllPub  ...        0    NaN    NaN         NaN       0   \n",
       "4            Lvl    AllPub  ...        0    NaN    NaN         NaN       0   \n",
       "...          ...       ...  ...      ...    ...    ...         ...     ...   \n",
       "1455         Lvl    AllPub  ...        0    NaN    NaN         NaN       0   \n",
       "1456         Lvl    AllPub  ...        0    NaN  MnPrv         NaN       0   \n",
       "1457         Lvl    AllPub  ...        0    NaN  GdPrv        Shed    2500   \n",
       "1458         Lvl    AllPub  ...        0    NaN    NaN         NaN       0   \n",
       "1459         Lvl    AllPub  ...        0    NaN    NaN         NaN       0   \n",
       "\n",
       "     MoSold YrSold  SaleType  SaleCondition  SalePrice  \n",
       "0         2   2008        WD         Normal     208500  \n",
       "1         5   2007        WD         Normal     181500  \n",
       "2         9   2008        WD         Normal     223500  \n",
       "3         2   2006        WD        Abnorml     140000  \n",
       "4        12   2008        WD         Normal     250000  \n",
       "...     ...    ...       ...            ...        ...  \n",
       "1455      8   2007        WD         Normal     175000  \n",
       "1456      2   2010        WD         Normal     210000  \n",
       "1457      5   2010        WD         Normal     266500  \n",
       "1458      4   2010        WD         Normal     142125  \n",
       "1459      6   2008        WD         Normal     147500  \n",
       "\n",
       "[1460 rows x 81 columns]"
      ]
     },
     "execution_count": 3,
     "metadata": {},
     "output_type": "execute_result"
    }
   ],
   "source": [
    "df = pd.read_csv(\"./data/3_lekce_houses_train.csv\")\n",
    "df"
   ]
  },
  {
   "cell_type": "markdown",
   "id": "1111f315",
   "metadata": {},
   "source": [
    "## 1. Identifikace chybějících hodnot --> df.isna().sum()\n",
    "**Zadání:**\n",
    "Napište funkci, která najde chybějící hodnoty v datasetu a vypíše, kolik chybějících hodnot je v každém sloupci."
   ]
  },
  {
   "cell_type": "markdown",
   "id": "3768addd",
   "metadata": {},
   "source": [
    "#### **reseni:**"
   ]
  },
  {
   "cell_type": "code",
   "execution_count": 4,
   "id": "be649f4e",
   "metadata": {},
   "outputs": [],
   "source": [
    "def null_columns(dataframe : pd.core.frame.DataFrame, relative=False):\n",
    "    \"\"\"Eats a dataframe and spits out a dataframe with the nullcount for each column.\n",
    "    the column with the nullcounts is named 'null_counts'\n",
    "    the column with the names of columns from the original datafrate is named 'col_names'\n",
    "    When relative=True is set then it will return the relative nullcount instead\n",
    "    \"\"\"\n",
    "    \n",
    "    #get rowcount of original DF:\n",
    "    length = len(dataframe)\n",
    "    #get nullcounts per column and turn it into a DF and then rename its columns\n",
    "    counts_DF = dataframe.isna().sum().reset_index().rename(columns={0:\"null_counts\", \"index\":\"col_names\"})\n",
    "    \n",
    "    #return rel or abs values\n",
    "    if relative == False:\n",
    "        return counts_DF\n",
    "    else:\n",
    "        counts_DF[\"null_counts\"] /= length\n",
    "        return counts_DF"
   ]
  },
  {
   "cell_type": "code",
   "execution_count": 5,
   "id": "1d67d198",
   "metadata": {},
   "outputs": [],
   "source": [
    "null_overview = null_columns(df, relative=True)\n",
    "null_overview;"
   ]
  },
  {
   "cell_type": "markdown",
   "id": "fa12a88d",
   "metadata": {},
   "source": [
    "#### nastavba na reseni:"
   ]
  },
  {
   "cell_type": "code",
   "execution_count": 6,
   "id": "847ac5cc",
   "metadata": {},
   "outputs": [],
   "source": [
    "def null_columns_only_null(dataframe : pd.core.frame.DataFrame, relative=False):\n",
    "    \"\"\"Eats a dataframe and spits out a dataframe with only the columns\n",
    "    that contain null values. Each column_name with the nullcount for each column\n",
    "    the column with the nullcounts is named 'null_counts'\n",
    "    the column with the names of columns from the original datafrate is named 'col_names'\"\"\"\n",
    "    null_columns_DF = null_columns(dataframe, relative=relative)\n",
    "    return null_columns_DF[null_columns_DF[\"null_counts\"]>0]\n",
    "    "
   ]
  },
  {
   "cell_type": "code",
   "execution_count": 7,
   "id": "a9b847b2",
   "metadata": {},
   "outputs": [],
   "source": [
    "null_columns_only_null(df, relative=True);"
   ]
  },
  {
   "cell_type": "markdown",
   "id": "376a47f3",
   "metadata": {},
   "source": [
    "#### kombinace obojiho predchoziho:"
   ]
  },
  {
   "cell_type": "code",
   "execution_count": 8,
   "id": "1d80afab",
   "metadata": {},
   "outputs": [],
   "source": [
    "def null_count(dataframe : pd.core.frame.DataFrame, only_null=False, relative=False):\n",
    "    \"\"\"Eats a DF and spits out a DF with column names from the original df as rows.\n",
    "    Each column name with the nullcount for said column.\n",
    "    The column with the nullcounts is named 'null_counts' in the output DF.\n",
    "    The column with the names of columns from the original datafrate is named 'col_names\n",
    "    only_null=True returns only col_names of columns that contain at least one null value\n",
    "    \"\"\"\n",
    "    \n",
    "    if only_null == False:\n",
    "        return null_columns(dataframe, relative=relative)\n",
    "    else:\n",
    "        return null_columns_only_null(dataframe, relative=relative)"
   ]
  },
  {
   "cell_type": "code",
   "execution_count": 9,
   "id": "e9195239",
   "metadata": {},
   "outputs": [],
   "source": [
    "null_count(df);"
   ]
  },
  {
   "cell_type": "code",
   "execution_count": 10,
   "id": "05462e81",
   "metadata": {},
   "outputs": [],
   "source": [
    "null_count(df, only_null=True, relative=True);"
   ]
  },
  {
   "cell_type": "markdown",
   "id": "a32837b3",
   "metadata": {},
   "source": [
    "#### Napis funkci, co vrati unique values count pro jednotlive sloupce -- a at to ma i prepinac na relative/absolut:"
   ]
  },
  {
   "cell_type": "code",
   "execution_count": 11,
   "id": "9be85b9d",
   "metadata": {},
   "outputs": [],
   "source": [
    "def unique_values_count(dataframe : pd.core.frame.DataFrame, relative=True):\n",
    "    \"\"\"Eats a DF and spits out another DF with the ratio of unique to total values in each column of the original DF.\n",
    "    When relative=False is set, then it spits out the same only with unique value counts instead of ratios.\n",
    "    The output DF has column names of the original DF in the column named 'colnames' and the values in the column\n",
    "    named 'uniqueness'\n",
    "    \"\"\"\n",
    "    #reset index ze series udela DF a pak uz to jenom chceme prejmenovat metodou .rename()\n",
    "    uniqueness_counts_DF = dataframe.nunique().reset_index().rename(columns={\"index\":\"col_names\", 0:\"uniqueness\"})\n",
    "    \n",
    "    length = len(dataframe)\n",
    "    \n",
    "    # create a copy of df with counts\n",
    "    temp_DF = uniqueness_counts_DF.copy()\n",
    "    \n",
    "    # scale down the uniqeness by length\n",
    "    temp_DF[\"uniqueness\"] = temp_DF[\"uniqueness\"]/length\n",
    "    uniqueness_ratios_DF = temp_DF\n",
    "    \n",
    "    if relative==False:\n",
    "        return uniqueness_counts_DF\n",
    "    else:\n",
    "        return uniqueness_ratios_DF\n",
    "    "
   ]
  },
  {
   "cell_type": "code",
   "execution_count": 12,
   "id": "b4d1cf17",
   "metadata": {},
   "outputs": [],
   "source": [
    "unique_values_count(df);"
   ]
  },
  {
   "cell_type": "code",
   "execution_count": 13,
   "id": "4593f5e6",
   "metadata": {},
   "outputs": [],
   "source": [
    "unique_values_count(df, relative=False);"
   ]
  },
  {
   "cell_type": "markdown",
   "id": "5f29ab22",
   "metadata": {},
   "source": [
    "#### kombofunkce dvou predchozich:"
   ]
  },
  {
   "cell_type": "code",
   "execution_count": 14,
   "id": "9a26500a",
   "metadata": {},
   "outputs": [],
   "source": [
    "def get_nullness_and_uniqueness(dataframe : pd.core.frame.DataFrame, only_null=False, relative=True) -> pd.core.frame.DataFrame:\n",
    "    \n",
    "    # this is basically a left join on col_names:\n",
    "    return pd.merge(null_count(dataframe, relative=relative, only_null=only_null), unique_values_count(dataframe, relative=relative), on=\"col_names\", how=\"left\" )"
   ]
  },
  {
   "cell_type": "code",
   "execution_count": 15,
   "id": "73536121",
   "metadata": {},
   "outputs": [],
   "source": [
    "get_nullness_and_uniqueness(df, only_null=False, relative=True);"
   ]
  },
  {
   "cell_type": "markdown",
   "id": "0250a172",
   "metadata": {},
   "source": [
    "### Plot nullness and uniqueness:"
   ]
  },
  {
   "cell_type": "code",
   "execution_count": 16,
   "id": "0fa5645c",
   "metadata": {},
   "outputs": [
    {
     "data": {
      "image/png": "[encoded data removed]",
      "text/plain": [
       "<Figure size 720x576 with 2 Axes>"
      ]
     },
     "metadata": {
      "needs_background": "light"
     },
     "output_type": "display_data"
    }
   ],
   "source": [
    "data = get_nullness_and_uniqueness(df, only_null=True, relative=True)\n",
    "\n",
    "#misto umeleho indexu tam dat nas sloupec col_names\n",
    "data.index=data[\"col_names\"]\n",
    "\n",
    "#smazat sloupec\n",
    "data.drop(columns=\"col_names\", inplace=True)\n",
    "data\n",
    "plt.figure(figsize=FIG_SIZE)\n",
    "sns.heatmap(data, cmap='coolwarm')\n",
    "plt.show()"
   ]
  },
  {
   "cell_type": "markdown",
   "id": "5453822e",
   "metadata": {},
   "source": [
    "#### dalsi ukol: get and Plot correlation heatmap"
   ]
  },
  {
   "cell_type": "markdown",
   "id": "f13c79c6",
   "metadata": {},
   "source": [
    "#### Vrat list nazvu sloupcu, ve kterych je ciselna hodnota:"
   ]
  },
  {
   "cell_type": "code",
   "execution_count": 17,
   "id": "56b50b89",
   "metadata": {},
   "outputs": [],
   "source": [
    "def get_numeric_colnames(df: pd.core.frame.DataFrame) -> list:\n",
    "    \"\"\"returns a list of column names that contain numeric values (np.float64 or np.int64)\"\"\"\n",
    "    col_names = []\n",
    "    for column in df.columns:\n",
    "        if (df[column].dtype == np.float64) or (df[column].dtype == np.int64):\n",
    "            col_names.append(column)\n",
    "    return col_names"
   ]
  },
  {
   "cell_type": "markdown",
   "id": "f11a7503",
   "metadata": {},
   "source": [
    "snadneji takto:"
   ]
  },
  {
   "cell_type": "code",
   "execution_count": 18,
   "id": "703afc0c",
   "metadata": {},
   "outputs": [],
   "source": [
    "def get_numeric_colnames(df: pd.core.frame.DataFrame) -> list:\n",
    "    \"\"\"returns a list of column names that contain numeric values\"\"\"\n",
    "    return [col_name for col_name in df.select_dtypes(include=np.number)]"
   ]
  },
  {
   "cell_type": "code",
   "execution_count": 19,
   "id": "93d1e2f5",
   "metadata": {},
   "outputs": [],
   "source": [
    "get_numeric_colnames(df);"
   ]
  },
  {
   "cell_type": "code",
   "execution_count": 20,
   "id": "f5028c3f",
   "metadata": {},
   "outputs": [],
   "source": [
    "def crop_non_numeric_columns(df: pd.core.frame.DataFrame) -> pd.core.frame.DataFrame:\n",
    "    \"\"\"returns only the numeric columns as a dataframe\"\"\"\n",
    "    numeric_cols_DF = pd.DataFrame()\n",
    "    for col_name in get_numeric_colnames(df):\n",
    "        numeric_cols_DF[col_name] = df[col_name]\n",
    "    return numeric_cols_DF"
   ]
  },
  {
   "cell_type": "code",
   "execution_count": 21,
   "id": "291db428",
   "metadata": {},
   "outputs": [],
   "source": [
    "crop_non_numeric_columns(df);"
   ]
  },
  {
   "cell_type": "code",
   "execution_count": 22,
   "id": "397c1e27",
   "metadata": {},
   "outputs": [],
   "source": [
    "def get_cormatrix(df: pd.core.frame.DataFrame):\n",
    "    data = crop_non_numeric_columns(df)\n",
    "    return data.corr()"
   ]
  },
  {
   "cell_type": "code",
   "execution_count": 23,
   "id": "95fdedf7",
   "metadata": {
    "scrolled": false
   },
   "outputs": [],
   "source": [
    "get_cormatrix(df);"
   ]
  },
  {
   "cell_type": "code",
   "execution_count": 24,
   "id": "504c08ba",
   "metadata": {},
   "outputs": [],
   "source": [
    "def plot_corhmap(df: pd.core.frame.DataFrame):\n",
    "    \"\"\"plots a correlation heatmap for df numeric values\"\"\"\n",
    "    corm_DF = get_cormatrix(df)\n",
    "    plt.figure(figsize=FIG_SIZE)\n",
    "    sns.heatmap(corm_DF,cmap=\"coolwarm\")\n",
    "    plt.show()"
   ]
  },
  {
   "cell_type": "code",
   "execution_count": 25,
   "id": "437d9f53",
   "metadata": {},
   "outputs": [
    {
     "data": {
      "image/png": "[encoded data removed]",
      "text/plain": [
       "<Figure size 720x576 with 2 Axes>"
      ]
     },
     "metadata": {
      "needs_background": "light"
     },
     "output_type": "display_data"
    }
   ],
   "source": [
    "plot_corhmap(df)"
   ]
  },
  {
   "cell_type": "markdown",
   "id": "1a1a6882",
   "metadata": {},
   "source": [
    "### nahrada chybejicich hodnot prumerem:"
   ]
  },
  {
   "cell_type": "code",
   "execution_count": 26,
   "id": "16b58e33",
   "metadata": {},
   "outputs": [],
   "source": [
    "def isnull_replace(df: pd.core.frame.DataFrame) -> pd.core.frame.DataFrame:\n",
    "    data_AVG_imput = df.copy()\n",
    "    for col_name in get_numeric_colnames(data_AVG_imput):\n",
    "        #print(col_name)\n",
    "        data_AVG_imput[col_name] = data_AVG_imput[col_name].fillna(data_AVG_imput[col_name].mean())\n",
    "    return data_AVG_imput"
   ]
  },
  {
   "cell_type": "code",
   "execution_count": 28,
   "id": "232464b2",
   "metadata": {},
   "outputs": [
    {
     "data": {
      "text/html": [
       "<div>\n",
       "<style scoped>\n",
       "    .dataframe tbody tr th:only-of-type {\n",
       "        vertical-align: middle;\n",
       "    }\n",
       "\n",
       "    .dataframe tbody tr th {\n",
       "        vertical-align: top;\n",
       "    }\n",
       "\n",
       "    .dataframe thead th {\n",
       "        text-align: right;\n",
       "    }\n",
       "</style>\n",
       "<table border=\"1\" class=\"dataframe\">\n",
       "  <thead>\n",
       "    <tr style=\"text-align: right;\">\n",
       "      <th></th>\n",
       "      <th>col_names</th>\n",
       "      <th>null_counts</th>\n",
       "      <th>uniqueness</th>\n",
       "    </tr>\n",
       "  </thead>\n",
       "  <tbody>\n",
       "    <tr>\n",
       "      <th>0</th>\n",
       "      <td>Alley</td>\n",
       "      <td>0.937671</td>\n",
       "      <td>0.001370</td>\n",
       "    </tr>\n",
       "    <tr>\n",
       "      <th>1</th>\n",
       "      <td>MasVnrType</td>\n",
       "      <td>0.597260</td>\n",
       "      <td>0.002055</td>\n",
       "    </tr>\n",
       "    <tr>\n",
       "      <th>2</th>\n",
       "      <td>BsmtQual</td>\n",
       "      <td>0.025342</td>\n",
       "      <td>0.002740</td>\n",
       "    </tr>\n",
       "    <tr>\n",
       "      <th>3</th>\n",
       "      <td>BsmtCond</td>\n",
       "      <td>0.025342</td>\n",
       "      <td>0.002740</td>\n",
       "    </tr>\n",
       "    <tr>\n",
       "      <th>4</th>\n",
       "      <td>BsmtExposure</td>\n",
       "      <td>0.026027</td>\n",
       "      <td>0.002740</td>\n",
       "    </tr>\n",
       "    <tr>\n",
       "      <th>5</th>\n",
       "      <td>BsmtFinType1</td>\n",
       "      <td>0.025342</td>\n",
       "      <td>0.004110</td>\n",
       "    </tr>\n",
       "    <tr>\n",
       "      <th>6</th>\n",
       "      <td>BsmtFinType2</td>\n",
       "      <td>0.026027</td>\n",
       "      <td>0.004110</td>\n",
       "    </tr>\n",
       "    <tr>\n",
       "      <th>7</th>\n",
       "      <td>Electrical</td>\n",
       "      <td>0.000685</td>\n",
       "      <td>0.003425</td>\n",
       "    </tr>\n",
       "    <tr>\n",
       "      <th>8</th>\n",
       "      <td>FireplaceQu</td>\n",
       "      <td>0.472603</td>\n",
       "      <td>0.003425</td>\n",
       "    </tr>\n",
       "    <tr>\n",
       "      <th>9</th>\n",
       "      <td>GarageType</td>\n",
       "      <td>0.055479</td>\n",
       "      <td>0.004110</td>\n",
       "    </tr>\n",
       "    <tr>\n",
       "      <th>10</th>\n",
       "      <td>GarageFinish</td>\n",
       "      <td>0.055479</td>\n",
       "      <td>0.002055</td>\n",
       "    </tr>\n",
       "    <tr>\n",
       "      <th>11</th>\n",
       "      <td>GarageQual</td>\n",
       "      <td>0.055479</td>\n",
       "      <td>0.003425</td>\n",
       "    </tr>\n",
       "    <tr>\n",
       "      <th>12</th>\n",
       "      <td>GarageCond</td>\n",
       "      <td>0.055479</td>\n",
       "      <td>0.003425</td>\n",
       "    </tr>\n",
       "    <tr>\n",
       "      <th>13</th>\n",
       "      <td>PoolQC</td>\n",
       "      <td>0.995205</td>\n",
       "      <td>0.002055</td>\n",
       "    </tr>\n",
       "    <tr>\n",
       "      <th>14</th>\n",
       "      <td>Fence</td>\n",
       "      <td>0.807534</td>\n",
       "      <td>0.002740</td>\n",
       "    </tr>\n",
       "    <tr>\n",
       "      <th>15</th>\n",
       "      <td>MiscFeature</td>\n",
       "      <td>0.963014</td>\n",
       "      <td>0.002740</td>\n",
       "    </tr>\n",
       "  </tbody>\n",
       "</table>\n",
       "</div>"
      ],
      "text/plain": [
       "       col_names  null_counts  uniqueness\n",
       "0          Alley     0.937671    0.001370\n",
       "1     MasVnrType     0.597260    0.002055\n",
       "2       BsmtQual     0.025342    0.002740\n",
       "3       BsmtCond     0.025342    0.002740\n",
       "4   BsmtExposure     0.026027    0.002740\n",
       "5   BsmtFinType1     0.025342    0.004110\n",
       "6   BsmtFinType2     0.026027    0.004110\n",
       "7     Electrical     0.000685    0.003425\n",
       "8    FireplaceQu     0.472603    0.003425\n",
       "9     GarageType     0.055479    0.004110\n",
       "10  GarageFinish     0.055479    0.002055\n",
       "11    GarageQual     0.055479    0.003425\n",
       "12    GarageCond     0.055479    0.003425\n",
       "13        PoolQC     0.995205    0.002055\n",
       "14         Fence     0.807534    0.002740\n",
       "15   MiscFeature     0.963014    0.002740"
      ]
     },
     "execution_count": 28,
     "metadata": {},
     "output_type": "execute_result"
    }
   ],
   "source": [
    "data_AVG_imput = isnull_replace(df)\n",
    "get_nullness_and_uniqueness(data_AVG_imput,only_null=True, relative=True)"
   ]
  },
  {
   "cell_type": "code",
   "execution_count": 29,
   "id": "c564ad87",
   "metadata": {
    "scrolled": false
   },
   "outputs": [
    {
     "data": {
      "text/html": [
       "<div>\n",
       "<style scoped>\n",
       "    .dataframe tbody tr th:only-of-type {\n",
       "        vertical-align: middle;\n",
       "    }\n",
       "\n",
       "    .dataframe tbody tr th {\n",
       "        vertical-align: top;\n",
       "    }\n",
       "\n",
       "    .dataframe thead th {\n",
       "        text-align: right;\n",
       "    }\n",
       "</style>\n",
       "<table border=\"1\" class=\"dataframe\">\n",
       "  <thead>\n",
       "    <tr style=\"text-align: right;\">\n",
       "      <th></th>\n",
       "      <th>col_names</th>\n",
       "      <th>null_counts</th>\n",
       "      <th>uniqueness</th>\n",
       "    </tr>\n",
       "  </thead>\n",
       "  <tbody>\n",
       "    <tr>\n",
       "      <th>0</th>\n",
       "      <td>LotFrontage</td>\n",
       "      <td>0.177397</td>\n",
       "      <td>0.075342</td>\n",
       "    </tr>\n",
       "    <tr>\n",
       "      <th>1</th>\n",
       "      <td>Alley</td>\n",
       "      <td>0.937671</td>\n",
       "      <td>0.001370</td>\n",
       "    </tr>\n",
       "    <tr>\n",
       "      <th>2</th>\n",
       "      <td>MasVnrType</td>\n",
       "      <td>0.597260</td>\n",
       "      <td>0.002055</td>\n",
       "    </tr>\n",
       "    <tr>\n",
       "      <th>3</th>\n",
       "      <td>MasVnrArea</td>\n",
       "      <td>0.005479</td>\n",
       "      <td>0.223973</td>\n",
       "    </tr>\n",
       "    <tr>\n",
       "      <th>4</th>\n",
       "      <td>BsmtQual</td>\n",
       "      <td>0.025342</td>\n",
       "      <td>0.002740</td>\n",
       "    </tr>\n",
       "    <tr>\n",
       "      <th>5</th>\n",
       "      <td>BsmtCond</td>\n",
       "      <td>0.025342</td>\n",
       "      <td>0.002740</td>\n",
       "    </tr>\n",
       "    <tr>\n",
       "      <th>6</th>\n",
       "      <td>BsmtExposure</td>\n",
       "      <td>0.026027</td>\n",
       "      <td>0.002740</td>\n",
       "    </tr>\n",
       "    <tr>\n",
       "      <th>7</th>\n",
       "      <td>BsmtFinType1</td>\n",
       "      <td>0.025342</td>\n",
       "      <td>0.004110</td>\n",
       "    </tr>\n",
       "    <tr>\n",
       "      <th>8</th>\n",
       "      <td>BsmtFinType2</td>\n",
       "      <td>0.026027</td>\n",
       "      <td>0.004110</td>\n",
       "    </tr>\n",
       "    <tr>\n",
       "      <th>9</th>\n",
       "      <td>Electrical</td>\n",
       "      <td>0.000685</td>\n",
       "      <td>0.003425</td>\n",
       "    </tr>\n",
       "    <tr>\n",
       "      <th>10</th>\n",
       "      <td>FireplaceQu</td>\n",
       "      <td>0.472603</td>\n",
       "      <td>0.003425</td>\n",
       "    </tr>\n",
       "    <tr>\n",
       "      <th>11</th>\n",
       "      <td>GarageType</td>\n",
       "      <td>0.055479</td>\n",
       "      <td>0.004110</td>\n",
       "    </tr>\n",
       "    <tr>\n",
       "      <th>12</th>\n",
       "      <td>GarageYrBlt</td>\n",
       "      <td>0.055479</td>\n",
       "      <td>0.066438</td>\n",
       "    </tr>\n",
       "    <tr>\n",
       "      <th>13</th>\n",
       "      <td>GarageFinish</td>\n",
       "      <td>0.055479</td>\n",
       "      <td>0.002055</td>\n",
       "    </tr>\n",
       "    <tr>\n",
       "      <th>14</th>\n",
       "      <td>GarageQual</td>\n",
       "      <td>0.055479</td>\n",
       "      <td>0.003425</td>\n",
       "    </tr>\n",
       "    <tr>\n",
       "      <th>15</th>\n",
       "      <td>GarageCond</td>\n",
       "      <td>0.055479</td>\n",
       "      <td>0.003425</td>\n",
       "    </tr>\n",
       "    <tr>\n",
       "      <th>16</th>\n",
       "      <td>PoolQC</td>\n",
       "      <td>0.995205</td>\n",
       "      <td>0.002055</td>\n",
       "    </tr>\n",
       "    <tr>\n",
       "      <th>17</th>\n",
       "      <td>Fence</td>\n",
       "      <td>0.807534</td>\n",
       "      <td>0.002740</td>\n",
       "    </tr>\n",
       "    <tr>\n",
       "      <th>18</th>\n",
       "      <td>MiscFeature</td>\n",
       "      <td>0.963014</td>\n",
       "      <td>0.002740</td>\n",
       "    </tr>\n",
       "  </tbody>\n",
       "</table>\n",
       "</div>"
      ],
      "text/plain": [
       "       col_names  null_counts  uniqueness\n",
       "0    LotFrontage     0.177397    0.075342\n",
       "1          Alley     0.937671    0.001370\n",
       "2     MasVnrType     0.597260    0.002055\n",
       "3     MasVnrArea     0.005479    0.223973\n",
       "4       BsmtQual     0.025342    0.002740\n",
       "5       BsmtCond     0.025342    0.002740\n",
       "6   BsmtExposure     0.026027    0.002740\n",
       "7   BsmtFinType1     0.025342    0.004110\n",
       "8   BsmtFinType2     0.026027    0.004110\n",
       "9     Electrical     0.000685    0.003425\n",
       "10   FireplaceQu     0.472603    0.003425\n",
       "11    GarageType     0.055479    0.004110\n",
       "12   GarageYrBlt     0.055479    0.066438\n",
       "13  GarageFinish     0.055479    0.002055\n",
       "14    GarageQual     0.055479    0.003425\n",
       "15    GarageCond     0.055479    0.003425\n",
       "16        PoolQC     0.995205    0.002055\n",
       "17         Fence     0.807534    0.002740\n",
       "18   MiscFeature     0.963014    0.002740"
      ]
     },
     "execution_count": 29,
     "metadata": {},
     "output_type": "execute_result"
    }
   ],
   "source": [
    "get_nullness_and_uniqueness(df,only_null=True, relative=True)"
   ]
  },
  {
   "cell_type": "code",
   "execution_count": 30,
   "id": "655bfd56",
   "metadata": {},
   "outputs": [],
   "source": [
    "data_AVG_imput = isnull_replace(df)"
   ]
  },
  {
   "cell_type": "markdown",
   "id": "57e3fc83",
   "metadata": {},
   "source": [
    "### nahradit chybejici hodnoty pomoci linearni regrese:"
   ]
  },
  {
   "cell_type": "markdown",
   "id": "88ba85d7",
   "metadata": {},
   "source": [
    "#### vybrat hodnoty nejvice korelovane s cenou:"
   ]
  },
  {
   "cell_type": "code",
   "execution_count": 48,
   "id": "31b256c5",
   "metadata": {},
   "outputs": [],
   "source": [
    "def get_most_cor_colnames_to_target(df:pd.core.frame.DataFrame, input_col_N:int, target_colname:str)->list[str]:\n",
    "    input_colnames = []\n",
    "    corr_col = get_cormatrix(df)[target_colname]\n",
    "\n",
    "    # drop target:\n",
    "    other_corr_col = corr_col.drop(target_colname)\n",
    "    \n",
    "    #absolute values:\n",
    "    for i in other_corr_col.index:\n",
    "        other_corr_col[i] = abs(other_corr_col[i])\n",
    "    # collect highest correlated\n",
    "    for col_ind in range(input_col_N):\n",
    "        found_colname = other_corr_col[other_corr_col == other_corr_col.max()].index[0]\n",
    "        input_colnames.append(found_colname)\n",
    "        other_corr_col.drop(found_colname, inplace=True)\n",
    "    return input_colnames"
   ]
  },
  {
   "cell_type": "code",
   "execution_count": 52,
   "id": "71586aee",
   "metadata": {},
   "outputs": [],
   "source": [
    "most_cor_colnames = get_most_cor_colnames_to_target(df, 2, 'SalePrice')"
   ]
  },
  {
   "cell_type": "code",
   "execution_count": 54,
   "id": "ba1ed783",
   "metadata": {},
   "outputs": [
    {
     "ename": "SyntaxError",
     "evalue": "incomplete input (1381205815.py, line 1)",
     "output_type": "error",
     "traceback": [
      "\u001b[0;36m  File \u001b[0;32m\"/tmp/ipykernel_3599/1381205815.py\"\u001b[0;36m, line \u001b[0;32m1\u001b[0m\n\u001b[0;31m    def fill_nulls_lin_reg(df: pd.core.frame.DataFrame, target_colname: str, input_col_names:list[str]) -> pd.core.frame.DataFrame:\u001b[0m\n\u001b[0m                                                                                                                                   ^\u001b[0m\n\u001b[0;31mSyntaxError\u001b[0m\u001b[0;31m:\u001b[0m incomplete input\n"
     ]
    }
   ],
   "source": [
    "def fill_nulls_lin_reg(df: pd.core.frame.DataFrame, target_colname: str, input_col_names:list[str]) -> pd.core.frame.DataFrame:\n",
    "    df_no_nulls_in_target_DF = df.dropna(subset=target_colname)\n",
    "    \n",
    "    "
   ]
  },
  {
   "cell_type": "code",
   "execution_count": null,
   "id": "0430a937",
   "metadata": {},
   "outputs": [],
   "source": []
  },
  {
   "cell_type": "code",
   "execution_count": null,
   "id": "b6741606",
   "metadata": {},
   "outputs": [],
   "source": []
  },
  {
   "cell_type": "code",
   "execution_count": null,
   "id": "650a7886",
   "metadata": {},
   "outputs": [],
   "source": []
  },
  {
   "cell_type": "code",
   "execution_count": null,
   "id": "e22fe246",
   "metadata": {},
   "outputs": [],
   "source": []
  },
  {
   "cell_type": "markdown",
   "id": "06f52520",
   "metadata": {},
   "source": [
    "# OTAZKY na patek:"
   ]
  },
  {
   "cell_type": "code",
   "execution_count": null,
   "id": "d4e0a4d6",
   "metadata": {},
   "outputs": [],
   "source": [
    "#?????????\n",
    "### Jakej je rozdil:\n",
    "\n",
    "def get_numeric_colnames(df: pd.core.frame.DataFrame) -> list:\n",
    "    \"\"\"returns a list of column names that contain numeric values\"\"\"\n",
    "    return [col_name for col_name in df.select_dtypes(include=np.number).columns]\n",
    "\n",
    "#VERSUS:\n",
    "\n",
    "def get_numeric_colnames(df: pd.core.frame.DataFrame) -> list:\n",
    "    \"\"\"returns a list of column names that contain numeric values\"\"\"\n",
    "    return [col_name for col_name in df.select_dtypes(include=np.number)]\n",
    "\n",
    "#?????????"
   ]
  },
  {
   "cell_type": "markdown",
   "id": "651e1b63",
   "metadata": {},
   "source": [
    "### rozdil neni zadnej, protoze nahodou pd.core.frame.DataFrame ma nastaveny iterator pres colnames"
   ]
  },
  {
   "cell_type": "code",
   "execution_count": null,
   "id": "efe36ee4",
   "metadata": {},
   "outputs": [],
   "source": []
  }
 ],
 "metadata": {
  "kernelspec": {
   "display_name": "Python 3 (ipykernel)",
   "language": "python",
   "name": "python3"
  },
  "language_info": {
   "codemirror_mode": {
    "name": "ipython",
    "version": 3
   },
   "file_extension": ".py",
   "mimetype": "text/x-python",
   "name": "python",
   "nbconvert_exporter": "python",
   "pygments_lexer": "ipython3",
   "version": "3.10.12"
  }
 },
 "nbformat": 4,
 "nbformat_minor": 5
}
